{
 "cells": [
  {
   "cell_type": "code",
   "execution_count": 56,
   "id": "61ad4c33-5ce7-4405-be5a-78d07a490fc4",
   "metadata": {},
   "outputs": [],
   "source": [
    "import pandas as pd\n",
    "import numpy as np"
   ]
  },
  {
   "cell_type": "code",
   "execution_count": 57,
   "id": "548efe36-26f0-4080-8adc-8423d9c9de0d",
   "metadata": {},
   "outputs": [],
   "source": [
    "df = pd.read_csv(\"C:/Users/tinch/coderhouse/template_model/data/processed/dataset_merged.csv\")"
   ]
  },
  {
   "cell_type": "code",
   "execution_count": 58,
   "id": "9966d412-85dd-4bac-a9f7-38742ee6f528",
   "metadata": {},
   "outputs": [
    {
     "data": {
      "text/html": [
       "<div>\n",
       "<style scoped>\n",
       "    .dataframe tbody tr th:only-of-type {\n",
       "        vertical-align: middle;\n",
       "    }\n",
       "\n",
       "    .dataframe tbody tr th {\n",
       "        vertical-align: top;\n",
       "    }\n",
       "\n",
       "    .dataframe thead th {\n",
       "        text-align: right;\n",
       "    }\n",
       "</style>\n",
       "<table border=\"1\" class=\"dataframe\">\n",
       "  <thead>\n",
       "    <tr style=\"text-align: right;\">\n",
       "      <th></th>\n",
       "      <th>Unnamed: 0</th>\n",
       "      <th>ID</th>\n",
       "      <th>systolic</th>\n",
       "      <th>relaxation</th>\n",
       "      <th>Cholesterol</th>\n",
       "      <th>triglyceride</th>\n",
       "      <th>HDL</th>\n",
       "      <th>LDL</th>\n",
       "      <th>gender</th>\n",
       "      <th>age</th>\n",
       "      <th>...</th>\n",
       "      <th>ALT</th>\n",
       "      <th>Gtp</th>\n",
       "      <th>oral</th>\n",
       "      <th>dental caries</th>\n",
       "      <th>tartar</th>\n",
       "      <th>eyesight(left)</th>\n",
       "      <th>eyesight(right)</th>\n",
       "      <th>hearing(left)</th>\n",
       "      <th>hearing(right)</th>\n",
       "      <th>target</th>\n",
       "    </tr>\n",
       "  </thead>\n",
       "  <tbody>\n",
       "    <tr>\n",
       "      <th>0</th>\n",
       "      <td>0</td>\n",
       "      <td>0</td>\n",
       "      <td>4.750000</td>\n",
       "      <td>3.041667</td>\n",
       "      <td>8.958333</td>\n",
       "      <td>3.416667</td>\n",
       "      <td>3.041667</td>\n",
       "      <td>5.250000</td>\n",
       "      <td>F</td>\n",
       "      <td>40.0</td>\n",
       "      <td>...</td>\n",
       "      <td>0.791667</td>\n",
       "      <td>1.125000</td>\n",
       "      <td>Y</td>\n",
       "      <td>0</td>\n",
       "      <td>Y</td>\n",
       "      <td>0.043056</td>\n",
       "      <td>0.041667</td>\n",
       "      <td>0.041667</td>\n",
       "      <td>0.041667</td>\n",
       "      <td>0</td>\n",
       "    </tr>\n",
       "    <tr>\n",
       "      <th>1</th>\n",
       "      <td>1</td>\n",
       "      <td>1</td>\n",
       "      <td>4.958333</td>\n",
       "      <td>2.916667</td>\n",
       "      <td>8.000000</td>\n",
       "      <td>4.791667</td>\n",
       "      <td>1.750000</td>\n",
       "      <td>5.291667</td>\n",
       "      <td>F</td>\n",
       "      <td>40.0</td>\n",
       "      <td>...</td>\n",
       "      <td>0.791667</td>\n",
       "      <td>0.750000</td>\n",
       "      <td>Y</td>\n",
       "      <td>0</td>\n",
       "      <td>Y</td>\n",
       "      <td>0.005556</td>\n",
       "      <td>0.004167</td>\n",
       "      <td>0.041667</td>\n",
       "      <td>0.041667</td>\n",
       "      <td>0</td>\n",
       "    </tr>\n",
       "    <tr>\n",
       "      <th>2</th>\n",
       "      <td>2</td>\n",
       "      <td>2</td>\n",
       "      <td>5.750000</td>\n",
       "      <td>3.583333</td>\n",
       "      <td>10.083333</td>\n",
       "      <td>7.583333</td>\n",
       "      <td>2.291667</td>\n",
       "      <td>6.291667</td>\n",
       "      <td>M</td>\n",
       "      <td>55.0</td>\n",
       "      <td>...</td>\n",
       "      <td>0.666667</td>\n",
       "      <td>0.916667</td>\n",
       "      <td>Y</td>\n",
       "      <td>0</td>\n",
       "      <td>N</td>\n",
       "      <td>0.005556</td>\n",
       "      <td>0.005556</td>\n",
       "      <td>0.041667</td>\n",
       "      <td>0.041667</td>\n",
       "      <td>1</td>\n",
       "    </tr>\n",
       "    <tr>\n",
       "      <th>3</th>\n",
       "      <td>3</td>\n",
       "      <td>3</td>\n",
       "      <td>4.166667</td>\n",
       "      <td>2.500000</td>\n",
       "      <td>13.416667</td>\n",
       "      <td>10.583333</td>\n",
       "      <td>1.875000</td>\n",
       "      <td>9.416667</td>\n",
       "      <td>M</td>\n",
       "      <td>40.0</td>\n",
       "      <td>...</td>\n",
       "      <td>1.083333</td>\n",
       "      <td>0.750000</td>\n",
       "      <td>Y</td>\n",
       "      <td>0</td>\n",
       "      <td>Y</td>\n",
       "      <td>0.045139</td>\n",
       "      <td>0.045139</td>\n",
       "      <td>0.041667</td>\n",
       "      <td>0.041667</td>\n",
       "      <td>0</td>\n",
       "    </tr>\n",
       "    <tr>\n",
       "      <th>4</th>\n",
       "      <td>4</td>\n",
       "      <td>4</td>\n",
       "      <td>5.000000</td>\n",
       "      <td>3.083333</td>\n",
       "      <td>7.666667</td>\n",
       "      <td>3.083333</td>\n",
       "      <td>2.583333</td>\n",
       "      <td>4.458333</td>\n",
       "      <td>F</td>\n",
       "      <td>40.0</td>\n",
       "      <td>...</td>\n",
       "      <td>0.583333</td>\n",
       "      <td>0.916667</td>\n",
       "      <td>Y</td>\n",
       "      <td>0</td>\n",
       "      <td>N</td>\n",
       "      <td>0.041667</td>\n",
       "      <td>0.041667</td>\n",
       "      <td>0.041667</td>\n",
       "      <td>0.041667</td>\n",
       "      <td>0</td>\n",
       "    </tr>\n",
       "    <tr>\n",
       "      <th>...</th>\n",
       "      <td>...</td>\n",
       "      <td>...</td>\n",
       "      <td>...</td>\n",
       "      <td>...</td>\n",
       "      <td>...</td>\n",
       "      <td>...</td>\n",
       "      <td>...</td>\n",
       "      <td>...</td>\n",
       "      <td>...</td>\n",
       "      <td>...</td>\n",
       "      <td>...</td>\n",
       "      <td>...</td>\n",
       "      <td>...</td>\n",
       "      <td>...</td>\n",
       "      <td>...</td>\n",
       "      <td>...</td>\n",
       "      <td>...</td>\n",
       "      <td>...</td>\n",
       "      <td>...</td>\n",
       "      <td>...</td>\n",
       "      <td>...</td>\n",
       "    </tr>\n",
       "    <tr>\n",
       "      <th>49995</th>\n",
       "      <td>49995</td>\n",
       "      <td>27343</td>\n",
       "      <td>NaN</td>\n",
       "      <td>NaN</td>\n",
       "      <td>NaN</td>\n",
       "      <td>NaN</td>\n",
       "      <td>2.625000</td>\n",
       "      <td>3.041667</td>\n",
       "      <td>M</td>\n",
       "      <td>50.0</td>\n",
       "      <td>...</td>\n",
       "      <td>NaN</td>\n",
       "      <td>0.916667</td>\n",
       "      <td>Y</td>\n",
       "      <td>0</td>\n",
       "      <td>Y</td>\n",
       "      <td>0.004861</td>\n",
       "      <td>0.005556</td>\n",
       "      <td>0.041667</td>\n",
       "      <td>NaN</td>\n",
       "      <td>1</td>\n",
       "    </tr>\n",
       "    <tr>\n",
       "      <th>49996</th>\n",
       "      <td>49996</td>\n",
       "      <td>27350</td>\n",
       "      <td>NaN</td>\n",
       "      <td>NaN</td>\n",
       "      <td>NaN</td>\n",
       "      <td>NaN</td>\n",
       "      <td>2.250000</td>\n",
       "      <td>3.208333</td>\n",
       "      <td>M</td>\n",
       "      <td>30.0</td>\n",
       "      <td>...</td>\n",
       "      <td>NaN</td>\n",
       "      <td>0.750000</td>\n",
       "      <td>Y</td>\n",
       "      <td>1</td>\n",
       "      <td>Y</td>\n",
       "      <td>0.045139</td>\n",
       "      <td>0.041667</td>\n",
       "      <td>0.041667</td>\n",
       "      <td>NaN</td>\n",
       "      <td>1</td>\n",
       "    </tr>\n",
       "    <tr>\n",
       "      <th>49997</th>\n",
       "      <td>49997</td>\n",
       "      <td>27351</td>\n",
       "      <td>NaN</td>\n",
       "      <td>NaN</td>\n",
       "      <td>NaN</td>\n",
       "      <td>NaN</td>\n",
       "      <td>1.958333</td>\n",
       "      <td>2.208333</td>\n",
       "      <td>M</td>\n",
       "      <td>20.0</td>\n",
       "      <td>...</td>\n",
       "      <td>NaN</td>\n",
       "      <td>2.916667</td>\n",
       "      <td>Y</td>\n",
       "      <td>0</td>\n",
       "      <td>Y</td>\n",
       "      <td>0.045139</td>\n",
       "      <td>0.045139</td>\n",
       "      <td>0.041667</td>\n",
       "      <td>NaN</td>\n",
       "      <td>1</td>\n",
       "    </tr>\n",
       "    <tr>\n",
       "      <th>49998</th>\n",
       "      <td>49998</td>\n",
       "      <td>27352</td>\n",
       "      <td>NaN</td>\n",
       "      <td>NaN</td>\n",
       "      <td>NaN</td>\n",
       "      <td>NaN</td>\n",
       "      <td>2.583333</td>\n",
       "      <td>4.125000</td>\n",
       "      <td>F</td>\n",
       "      <td>60.0</td>\n",
       "      <td>...</td>\n",
       "      <td>NaN</td>\n",
       "      <td>1.041667</td>\n",
       "      <td>Y</td>\n",
       "      <td>1</td>\n",
       "      <td>Y</td>\n",
       "      <td>0.002778</td>\n",
       "      <td>0.002778</td>\n",
       "      <td>0.041667</td>\n",
       "      <td>NaN</td>\n",
       "      <td>0</td>\n",
       "    </tr>\n",
       "    <tr>\n",
       "      <th>49999</th>\n",
       "      <td>49999</td>\n",
       "      <td>27354</td>\n",
       "      <td>NaN</td>\n",
       "      <td>NaN</td>\n",
       "      <td>NaN</td>\n",
       "      <td>NaN</td>\n",
       "      <td>2.750000</td>\n",
       "      <td>5.041667</td>\n",
       "      <td>M</td>\n",
       "      <td>45.0</td>\n",
       "      <td>...</td>\n",
       "      <td>NaN</td>\n",
       "      <td>2.583333</td>\n",
       "      <td>Y</td>\n",
       "      <td>1</td>\n",
       "      <td>N</td>\n",
       "      <td>0.045139</td>\n",
       "      <td>0.041667</td>\n",
       "      <td>0.041667</td>\n",
       "      <td>NaN</td>\n",
       "      <td>1</td>\n",
       "    </tr>\n",
       "  </tbody>\n",
       "</table>\n",
       "<p>50000 rows × 28 columns</p>\n",
       "</div>"
      ],
      "text/plain": [
       "       Unnamed: 0     ID  systolic  relaxation  Cholesterol  triglyceride  \\\n",
       "0               0      0  4.750000    3.041667     8.958333      3.416667   \n",
       "1               1      1  4.958333    2.916667     8.000000      4.791667   \n",
       "2               2      2  5.750000    3.583333    10.083333      7.583333   \n",
       "3               3      3  4.166667    2.500000    13.416667     10.583333   \n",
       "4               4      4  5.000000    3.083333     7.666667      3.083333   \n",
       "...           ...    ...       ...         ...          ...           ...   \n",
       "49995       49995  27343       NaN         NaN          NaN           NaN   \n",
       "49996       49996  27350       NaN         NaN          NaN           NaN   \n",
       "49997       49997  27351       NaN         NaN          NaN           NaN   \n",
       "49998       49998  27352       NaN         NaN          NaN           NaN   \n",
       "49999       49999  27354       NaN         NaN          NaN           NaN   \n",
       "\n",
       "            HDL       LDL gender   age  ...       ALT       Gtp  oral  \\\n",
       "0      3.041667  5.250000      F  40.0  ...  0.791667  1.125000     Y   \n",
       "1      1.750000  5.291667      F  40.0  ...  0.791667  0.750000     Y   \n",
       "2      2.291667  6.291667      M  55.0  ...  0.666667  0.916667     Y   \n",
       "3      1.875000  9.416667      M  40.0  ...  1.083333  0.750000     Y   \n",
       "4      2.583333  4.458333      F  40.0  ...  0.583333  0.916667     Y   \n",
       "...         ...       ...    ...   ...  ...       ...       ...   ...   \n",
       "49995  2.625000  3.041667      M  50.0  ...       NaN  0.916667     Y   \n",
       "49996  2.250000  3.208333      M  30.0  ...       NaN  0.750000     Y   \n",
       "49997  1.958333  2.208333      M  20.0  ...       NaN  2.916667     Y   \n",
       "49998  2.583333  4.125000      F  60.0  ...       NaN  1.041667     Y   \n",
       "49999  2.750000  5.041667      M  45.0  ...       NaN  2.583333     Y   \n",
       "\n",
       "       dental caries  tartar  eyesight(left)  eyesight(right)  hearing(left)  \\\n",
       "0                  0       Y        0.043056         0.041667       0.041667   \n",
       "1                  0       Y        0.005556         0.004167       0.041667   \n",
       "2                  0       N        0.005556         0.005556       0.041667   \n",
       "3                  0       Y        0.045139         0.045139       0.041667   \n",
       "4                  0       N        0.041667         0.041667       0.041667   \n",
       "...              ...     ...             ...              ...            ...   \n",
       "49995              0       Y        0.004861         0.005556       0.041667   \n",
       "49996              1       Y        0.045139         0.041667       0.041667   \n",
       "49997              0       Y        0.045139         0.045139       0.041667   \n",
       "49998              1       Y        0.002778         0.002778       0.041667   \n",
       "49999              1       N        0.045139         0.041667       0.041667   \n",
       "\n",
       "       hearing(right)  target  \n",
       "0            0.041667       0  \n",
       "1            0.041667       0  \n",
       "2            0.041667       1  \n",
       "3            0.041667       0  \n",
       "4            0.041667       0  \n",
       "...               ...     ...  \n",
       "49995             NaN       1  \n",
       "49996             NaN       1  \n",
       "49997             NaN       1  \n",
       "49998             NaN       0  \n",
       "49999             NaN       1  \n",
       "\n",
       "[50000 rows x 28 columns]"
      ]
     },
     "execution_count": 58,
     "metadata": {},
     "output_type": "execute_result"
    }
   ],
   "source": [
    "df"
   ]
  },
  {
   "cell_type": "code",
   "execution_count": 59,
   "id": "77c9710b-b0ac-4a06-a1ec-6c26e4628869",
   "metadata": {},
   "outputs": [
    {
     "data": {
      "text/plain": [
       "(50000, 28)"
      ]
     },
     "execution_count": 59,
     "metadata": {},
     "output_type": "execute_result"
    }
   ],
   "source": [
    "df.shape"
   ]
  },
  {
   "cell_type": "code",
   "execution_count": 60,
   "id": "97063a98-9460-45cb-8cd0-42f463b5a324",
   "metadata": {},
   "outputs": [
    {
     "name": "stdout",
     "output_type": "stream",
     "text": [
      "<class 'pandas.core.frame.DataFrame'>\n",
      "RangeIndex: 50000 entries, 0 to 49999\n",
      "Data columns (total 28 columns):\n",
      " #   Column               Non-Null Count  Dtype  \n",
      "---  ------               --------------  -----  \n",
      " 0   Unnamed: 0           50000 non-null  int64  \n",
      " 1   ID                   50000 non-null  int64  \n",
      " 2   systolic             49592 non-null  float64\n",
      " 3   relaxation           49588 non-null  float64\n",
      " 4   Cholesterol          49390 non-null  float64\n",
      " 5   triglyceride         49979 non-null  float64\n",
      " 6   HDL                  49053 non-null  float64\n",
      " 7   LDL                  49053 non-null  float64\n",
      " 8   gender               49963 non-null  object \n",
      " 9   age                  49523 non-null  float64\n",
      " 10  height(cm)           49587 non-null  float64\n",
      " 11  weight(kg)           49914 non-null  float64\n",
      " 12  waist(cm)            49616 non-null  float64\n",
      " 13  fasting blood sugar  49142 non-null  float64\n",
      " 14  hemoglobin           49859 non-null  float64\n",
      " 15  Urine protein        49841 non-null  float64\n",
      " 16  serum creatinine     38941 non-null  float64\n",
      " 17  AST                  4248 non-null   float64\n",
      " 18  ALT                  49678 non-null  float64\n",
      " 19  Gtp                  49937 non-null  float64\n",
      " 20  oral                 50000 non-null  object \n",
      " 21  dental caries        50000 non-null  int64  \n",
      " 22  tartar               50000 non-null  object \n",
      " 23  eyesight(left)       49298 non-null  float64\n",
      " 24  eyesight(right)      49524 non-null  float64\n",
      " 25  hearing(left)        49888 non-null  float64\n",
      " 26  hearing(right)       49779 non-null  float64\n",
      " 27  target               50000 non-null  int64  \n",
      "dtypes: float64(21), int64(4), object(3)\n",
      "memory usage: 10.7+ MB\n"
     ]
    }
   ],
   "source": [
    "df.info()"
   ]
  },
  {
   "cell_type": "code",
   "execution_count": 61,
   "id": "11df315e-e14b-430e-b6b5-7fe1488866ea",
   "metadata": {},
   "outputs": [
    {
     "data": {
      "text/plain": [
       "Unnamed: 0              0.000\n",
       "ID                      0.000\n",
       "systolic                0.816\n",
       "relaxation              0.824\n",
       "Cholesterol             1.220\n",
       "triglyceride            0.042\n",
       "HDL                     1.894\n",
       "LDL                     1.894\n",
       "gender                  0.074\n",
       "age                     0.954\n",
       "height(cm)              0.826\n",
       "weight(kg)              0.172\n",
       "waist(cm)               0.768\n",
       "fasting blood sugar     1.716\n",
       "hemoglobin              0.282\n",
       "Urine protein           0.318\n",
       "serum creatinine       22.118\n",
       "AST                    91.504\n",
       "ALT                     0.644\n",
       "Gtp                     0.126\n",
       "oral                    0.000\n",
       "dental caries           0.000\n",
       "tartar                  0.000\n",
       "eyesight(left)          1.404\n",
       "eyesight(right)         0.952\n",
       "hearing(left)           0.224\n",
       "hearing(right)          0.442\n",
       "target                  0.000\n",
       "dtype: float64"
      ]
     },
     "execution_count": 61,
     "metadata": {},
     "output_type": "execute_result"
    }
   ],
   "source": [
    "df.isna().sum()/df.shape[0]*100"
   ]
  },
  {
   "cell_type": "code",
   "execution_count": 62,
   "id": "fbd52573-14d8-408c-91f5-12cdcec67c93",
   "metadata": {},
   "outputs": [
    {
     "data": {
      "text/plain": [
       "Index(['Unnamed: 0', 'ID', 'systolic', 'relaxation', 'Cholesterol',\n",
       "       'triglyceride', 'HDL', 'LDL', 'gender', 'age', 'height(cm)',\n",
       "       'weight(kg)', 'waist(cm)', 'fasting blood sugar', 'hemoglobin',\n",
       "       'Urine protein', 'serum creatinine', 'AST', 'ALT', 'Gtp', 'oral',\n",
       "       'dental caries', 'tartar', 'eyesight(left)', 'eyesight(right)',\n",
       "       'hearing(left)', 'hearing(right)', 'target'],\n",
       "      dtype='object')"
      ]
     },
     "execution_count": 62,
     "metadata": {},
     "output_type": "execute_result"
    }
   ],
   "source": [
    "df.columns"
   ]
  },
  {
   "cell_type": "code",
   "execution_count": 63,
   "id": "300d3a28-40c8-4129-9d74-c00701dc8aac",
   "metadata": {},
   "outputs": [],
   "source": [
    "df = df.drop(columns=[\"Unnamed: 0\",\"AST\",\"serum creatinine\"])"
   ]
  },
  {
   "cell_type": "code",
   "execution_count": 64,
   "id": "31044fad-d92a-4da8-aadd-9b73e3d421fa",
   "metadata": {},
   "outputs": [],
   "source": [
    "df[\"target\"] = df[\"target\"].map({0:\"NO FUMADOR\", 1:\"FUMADOR\"})"
   ]
  },
  {
   "cell_type": "code",
   "execution_count": 65,
   "id": "b9732794-dad2-4d1e-abc6-34e1aa6e6a73",
   "metadata": {},
   "outputs": [],
   "source": [
    "df = df.fillna(df.mean(numeric_only=True))"
   ]
  },
  {
   "cell_type": "code",
   "execution_count": 66,
   "id": "1b88b027-382c-4561-a77e-e3f00d820a24",
   "metadata": {},
   "outputs": [
    {
     "data": {
      "text/plain": [
       "gender\n",
       "M    31762\n",
       "F    18201\n",
       "Name: count, dtype: int64"
      ]
     },
     "execution_count": 66,
     "metadata": {},
     "output_type": "execute_result"
    }
   ],
   "source": [
    "df.gender.value_counts()"
   ]
  },
  {
   "cell_type": "code",
   "execution_count": 67,
   "id": "36f26a79-ff45-4131-9582-e9840260995d",
   "metadata": {},
   "outputs": [],
   "source": [
    "random_gender = np.random.choice([\"F\",\"M\"], size=df.gender.isnull().sum())"
   ]
  },
  {
   "cell_type": "code",
   "execution_count": 68,
   "id": "b71fcf1d-51d6-4f65-9702-0c876a050060",
   "metadata": {},
   "outputs": [
    {
     "data": {
      "text/plain": [
       "array(['F', 'F', 'F', 'M', 'F', 'F', 'M', 'M', 'M', 'F', 'M', 'F', 'F',\n",
       "       'M', 'F', 'M', 'M', 'F', 'M', 'F', 'M', 'M', 'M', 'M', 'M', 'F',\n",
       "       'M', 'F', 'M', 'M', 'M', 'M', 'M', 'M', 'F', 'F', 'F'], dtype='<U1')"
      ]
     },
     "execution_count": 68,
     "metadata": {},
     "output_type": "execute_result"
    }
   ],
   "source": [
    "random_gender"
   ]
  },
  {
   "cell_type": "code",
   "execution_count": 69,
   "id": "8d07cd2b-8b6c-48fd-b004-2396f6eaf2a2",
   "metadata": {},
   "outputs": [],
   "source": [
    "df.loc[df[\"gender\"].isnull(), \"gender\"] = random_gender"
   ]
  },
  {
   "cell_type": "code",
   "execution_count": 70,
   "id": "0aee0587-7706-4495-a962-04250d9c669e",
   "metadata": {},
   "outputs": [
    {
     "data": {
      "text/plain": [
       "ID                     0.0\n",
       "systolic               0.0\n",
       "relaxation             0.0\n",
       "Cholesterol            0.0\n",
       "triglyceride           0.0\n",
       "HDL                    0.0\n",
       "LDL                    0.0\n",
       "gender                 0.0\n",
       "age                    0.0\n",
       "height(cm)             0.0\n",
       "weight(kg)             0.0\n",
       "waist(cm)              0.0\n",
       "fasting blood sugar    0.0\n",
       "hemoglobin             0.0\n",
       "Urine protein          0.0\n",
       "ALT                    0.0\n",
       "Gtp                    0.0\n",
       "oral                   0.0\n",
       "dental caries          0.0\n",
       "tartar                 0.0\n",
       "eyesight(left)         0.0\n",
       "eyesight(right)        0.0\n",
       "hearing(left)          0.0\n",
       "hearing(right)         0.0\n",
       "target                 0.0\n",
       "dtype: float64"
      ]
     },
     "execution_count": 70,
     "metadata": {},
     "output_type": "execute_result"
    }
   ],
   "source": [
    "df.isna().sum()/df.shape[0]*100"
   ]
  },
  {
   "cell_type": "code",
   "execution_count": 71,
   "id": "1544cb90-be6a-4487-931d-49128a9e3ee3",
   "metadata": {},
   "outputs": [
    {
     "data": {
      "text/plain": [
       "np.int64(0)"
      ]
     },
     "execution_count": 71,
     "metadata": {},
     "output_type": "execute_result"
    }
   ],
   "source": [
    "df.duplicated().sum()"
   ]
  },
  {
   "cell_type": "code",
   "execution_count": 72,
   "id": "ec3c2221-3f00-443a-a512-b9aefbfe7808",
   "metadata": {},
   "outputs": [
    {
     "data": {
      "text/plain": [
       "50000"
      ]
     },
     "execution_count": 72,
     "metadata": {},
     "output_type": "execute_result"
    }
   ],
   "source": [
    "# otra forma es ver si hay IDs duplicadas\n",
    "df.ID.nunique()"
   ]
  },
  {
   "cell_type": "code",
   "execution_count": 73,
   "id": "04760540-a684-4dca-a69c-f846e70bf49a",
   "metadata": {},
   "outputs": [
    {
     "data": {
      "text/plain": [
       "2"
      ]
     },
     "execution_count": 73,
     "metadata": {},
     "output_type": "execute_result"
    }
   ],
   "source": [
    "df.gender.nunique()"
   ]
  },
  {
   "cell_type": "code",
   "execution_count": 74,
   "id": "f5d20eeb-7d96-4dfc-89eb-98e2fd8c6bb3",
   "metadata": {},
   "outputs": [
    {
     "data": {
      "text/plain": [
       "array(['Y'], dtype=object)"
      ]
     },
     "execution_count": 74,
     "metadata": {},
     "output_type": "execute_result"
    }
   ],
   "source": [
    "df.oral.unique()"
   ]
  },
  {
   "cell_type": "code",
   "execution_count": 75,
   "id": "936acb68-00e7-4aaa-90be-a9ebd5200645",
   "metadata": {},
   "outputs": [
    {
     "data": {
      "text/plain": [
       "array(['Y', 'N'], dtype=object)"
      ]
     },
     "execution_count": 75,
     "metadata": {},
     "output_type": "execute_result"
    }
   ],
   "source": [
    "df.tartar.unique()"
   ]
  },
  {
   "cell_type": "code",
   "execution_count": 76,
   "id": "b4039f69-7067-495a-8ddc-4d0763349663",
   "metadata": {},
   "outputs": [
    {
     "data": {
      "text/plain": [
       "array(['NO FUMADOR', 'FUMADOR'], dtype=object)"
      ]
     },
     "execution_count": 76,
     "metadata": {},
     "output_type": "execute_result"
    }
   ],
   "source": [
    "df.target.unique()"
   ]
  },
  {
   "cell_type": "code",
   "execution_count": 77,
   "id": "8e378b10-c56e-4f8b-9027-21ff98d340d1",
   "metadata": {},
   "outputs": [],
   "source": [
    "df = df.drop(columns=[\"oral\"])"
   ]
  },
  {
   "cell_type": "code",
   "execution_count": 79,
   "id": "4f237df2-4a0f-4b66-b0aa-ad10d83adaac",
   "metadata": {},
   "outputs": [
    {
     "data": {
      "text/html": [
       "<div>\n",
       "<style scoped>\n",
       "    .dataframe tbody tr th:only-of-type {\n",
       "        vertical-align: middle;\n",
       "    }\n",
       "\n",
       "    .dataframe tbody tr th {\n",
       "        vertical-align: top;\n",
       "    }\n",
       "\n",
       "    .dataframe thead th {\n",
       "        text-align: right;\n",
       "    }\n",
       "</style>\n",
       "<table border=\"1\" class=\"dataframe\">\n",
       "  <thead>\n",
       "    <tr style=\"text-align: right;\">\n",
       "      <th></th>\n",
       "      <th>ID</th>\n",
       "      <th>systolic</th>\n",
       "      <th>relaxation</th>\n",
       "      <th>Cholesterol</th>\n",
       "      <th>triglyceride</th>\n",
       "      <th>HDL</th>\n",
       "      <th>LDL</th>\n",
       "      <th>gender</th>\n",
       "      <th>age</th>\n",
       "      <th>height(cm)</th>\n",
       "      <th>...</th>\n",
       "      <th>Urine protein</th>\n",
       "      <th>ALT</th>\n",
       "      <th>Gtp</th>\n",
       "      <th>dental caries</th>\n",
       "      <th>tartar</th>\n",
       "      <th>eyesight(left)</th>\n",
       "      <th>eyesight(right)</th>\n",
       "      <th>hearing(left)</th>\n",
       "      <th>hearing(right)</th>\n",
       "      <th>target</th>\n",
       "    </tr>\n",
       "  </thead>\n",
       "  <tbody>\n",
       "    <tr>\n",
       "      <th>0</th>\n",
       "      <td>0</td>\n",
       "      <td>4.750000</td>\n",
       "      <td>3.041667</td>\n",
       "      <td>8.958333</td>\n",
       "      <td>3.416667</td>\n",
       "      <td>3.041667</td>\n",
       "      <td>5.250000</td>\n",
       "      <td>F</td>\n",
       "      <td>40.0</td>\n",
       "      <td>155.0</td>\n",
       "      <td>...</td>\n",
       "      <td>0.041667</td>\n",
       "      <td>0.791667</td>\n",
       "      <td>1.125000</td>\n",
       "      <td>0</td>\n",
       "      <td>Y</td>\n",
       "      <td>0.043056</td>\n",
       "      <td>0.041667</td>\n",
       "      <td>0.041667</td>\n",
       "      <td>0.041667</td>\n",
       "      <td>NO FUMADOR</td>\n",
       "    </tr>\n",
       "    <tr>\n",
       "      <th>1</th>\n",
       "      <td>1</td>\n",
       "      <td>4.958333</td>\n",
       "      <td>2.916667</td>\n",
       "      <td>8.000000</td>\n",
       "      <td>4.791667</td>\n",
       "      <td>1.750000</td>\n",
       "      <td>5.291667</td>\n",
       "      <td>F</td>\n",
       "      <td>40.0</td>\n",
       "      <td>160.0</td>\n",
       "      <td>...</td>\n",
       "      <td>0.041667</td>\n",
       "      <td>0.791667</td>\n",
       "      <td>0.750000</td>\n",
       "      <td>0</td>\n",
       "      <td>Y</td>\n",
       "      <td>0.005556</td>\n",
       "      <td>0.004167</td>\n",
       "      <td>0.041667</td>\n",
       "      <td>0.041667</td>\n",
       "      <td>NO FUMADOR</td>\n",
       "    </tr>\n",
       "    <tr>\n",
       "      <th>2</th>\n",
       "      <td>2</td>\n",
       "      <td>5.750000</td>\n",
       "      <td>3.583333</td>\n",
       "      <td>10.083333</td>\n",
       "      <td>7.583333</td>\n",
       "      <td>2.291667</td>\n",
       "      <td>6.291667</td>\n",
       "      <td>M</td>\n",
       "      <td>55.0</td>\n",
       "      <td>170.0</td>\n",
       "      <td>...</td>\n",
       "      <td>0.041667</td>\n",
       "      <td>0.666667</td>\n",
       "      <td>0.916667</td>\n",
       "      <td>0</td>\n",
       "      <td>N</td>\n",
       "      <td>0.005556</td>\n",
       "      <td>0.005556</td>\n",
       "      <td>0.041667</td>\n",
       "      <td>0.041667</td>\n",
       "      <td>FUMADOR</td>\n",
       "    </tr>\n",
       "  </tbody>\n",
       "</table>\n",
       "<p>3 rows × 24 columns</p>\n",
       "</div>"
      ],
      "text/plain": [
       "   ID  systolic  relaxation  Cholesterol  triglyceride       HDL       LDL  \\\n",
       "0   0  4.750000    3.041667     8.958333      3.416667  3.041667  5.250000   \n",
       "1   1  4.958333    2.916667     8.000000      4.791667  1.750000  5.291667   \n",
       "2   2  5.750000    3.583333    10.083333      7.583333  2.291667  6.291667   \n",
       "\n",
       "  gender   age  height(cm)  ...  Urine protein       ALT       Gtp  \\\n",
       "0      F  40.0       155.0  ...       0.041667  0.791667  1.125000   \n",
       "1      F  40.0       160.0  ...       0.041667  0.791667  0.750000   \n",
       "2      M  55.0       170.0  ...       0.041667  0.666667  0.916667   \n",
       "\n",
       "   dental caries  tartar  eyesight(left)  eyesight(right)  hearing(left)  \\\n",
       "0              0       Y        0.043056         0.041667       0.041667   \n",
       "1              0       Y        0.005556         0.004167       0.041667   \n",
       "2              0       N        0.005556         0.005556       0.041667   \n",
       "\n",
       "  hearing(right)      target  \n",
       "0       0.041667  NO FUMADOR  \n",
       "1       0.041667  NO FUMADOR  \n",
       "2       0.041667     FUMADOR  \n",
       "\n",
       "[3 rows x 24 columns]"
      ]
     },
     "execution_count": 79,
     "metadata": {},
     "output_type": "execute_result"
    }
   ],
   "source": [
    "df.head(3)"
   ]
  },
  {
   "cell_type": "code",
   "execution_count": 80,
   "id": "c03ab3cf-792b-4541-91c7-d3d7f69a1aa5",
   "metadata": {},
   "outputs": [],
   "source": [
    "df.to_csv(\"C:/Users/tinch/coderhouse/template_model/data/processed/dataset_merged_processed.csv\")"
   ]
  },
  {
   "cell_type": "code",
   "execution_count": null,
   "id": "a0141ff8-8481-4643-9df3-f8bbc7729341",
   "metadata": {},
   "outputs": [],
   "source": []
  }
 ],
 "metadata": {
  "kernelspec": {
   "display_name": "Python 3 (ipykernel)",
   "language": "python",
   "name": "python3"
  },
  "language_info": {
   "codemirror_mode": {
    "name": "ipython",
    "version": 3
   },
   "file_extension": ".py",
   "mimetype": "text/x-python",
   "name": "python",
   "nbconvert_exporter": "python",
   "pygments_lexer": "ipython3",
   "version": "3.13.5"
  }
 },
 "nbformat": 4,
 "nbformat_minor": 5
}
