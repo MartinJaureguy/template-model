{
 "cells": [
  {
   "cell_type": "code",
   "execution_count": 5,
   "id": "74ba8053-5aeb-49a7-9a61-68fb2cc0a575",
   "metadata": {},
   "outputs": [],
   "source": [
    "import pandas as pd\n",
    "import numpy as np"
   ]
  },
  {
   "cell_type": "code",
   "execution_count": 6,
   "id": "7d3d1a12-37e4-4f98-aea1-149f85960332",
   "metadata": {},
   "outputs": [],
   "source": [
    "df = pd.read_csv(\"C:/Users/tinch/coderhouse/template_model/data/processed/dataset_merged_processed_no_outliers.csv\")"
   ]
  },
  {
   "cell_type": "code",
   "execution_count": 7,
   "id": "4d642011-0d93-44e0-97ff-332f20652892",
   "metadata": {},
   "outputs": [],
   "source": [
    "df = df.drop(columns=['Unnamed: 0'])"
   ]
  },
  {
   "cell_type": "code",
   "execution_count": 18,
   "id": "4280b879-9417-4607-b61f-eddda62819c2",
   "metadata": {},
   "outputs": [
    {
     "data": {
      "text/html": [
       "<div>\n",
       "<style scoped>\n",
       "    .dataframe tbody tr th:only-of-type {\n",
       "        vertical-align: middle;\n",
       "    }\n",
       "\n",
       "    .dataframe tbody tr th {\n",
       "        vertical-align: top;\n",
       "    }\n",
       "\n",
       "    .dataframe thead th {\n",
       "        text-align: right;\n",
       "    }\n",
       "</style>\n",
       "<table border=\"1\" class=\"dataframe\">\n",
       "  <thead>\n",
       "    <tr style=\"text-align: right;\">\n",
       "      <th></th>\n",
       "      <th>ID</th>\n",
       "      <th>systolic</th>\n",
       "      <th>relaxation</th>\n",
       "      <th>Cholesterol</th>\n",
       "      <th>triglyceride</th>\n",
       "      <th>HDL</th>\n",
       "      <th>LDL</th>\n",
       "      <th>gender</th>\n",
       "      <th>age</th>\n",
       "      <th>height(cm)</th>\n",
       "      <th>...</th>\n",
       "      <th>Urine protein</th>\n",
       "      <th>ALT</th>\n",
       "      <th>Gtp</th>\n",
       "      <th>dental caries</th>\n",
       "      <th>tartar</th>\n",
       "      <th>eyesight(left)</th>\n",
       "      <th>eyesight(right)</th>\n",
       "      <th>hearing(left)</th>\n",
       "      <th>hearing(right)</th>\n",
       "      <th>target</th>\n",
       "    </tr>\n",
       "  </thead>\n",
       "  <tbody>\n",
       "    <tr>\n",
       "      <th>0</th>\n",
       "      <td>0</td>\n",
       "      <td>4.750000</td>\n",
       "      <td>3.041667</td>\n",
       "      <td>8.958333</td>\n",
       "      <td>3.416667</td>\n",
       "      <td>3.041667</td>\n",
       "      <td>5.250000</td>\n",
       "      <td>0</td>\n",
       "      <td>40.0</td>\n",
       "      <td>155.0</td>\n",
       "      <td>...</td>\n",
       "      <td>0.041667</td>\n",
       "      <td>0.791667</td>\n",
       "      <td>1.125000</td>\n",
       "      <td>0.0</td>\n",
       "      <td>1</td>\n",
       "      <td>0.043056</td>\n",
       "      <td>0.041667</td>\n",
       "      <td>0.041667</td>\n",
       "      <td>0.041667</td>\n",
       "      <td>0</td>\n",
       "    </tr>\n",
       "    <tr>\n",
       "      <th>1</th>\n",
       "      <td>1</td>\n",
       "      <td>4.958333</td>\n",
       "      <td>2.916667</td>\n",
       "      <td>8.000000</td>\n",
       "      <td>4.791667</td>\n",
       "      <td>1.750000</td>\n",
       "      <td>5.291667</td>\n",
       "      <td>0</td>\n",
       "      <td>40.0</td>\n",
       "      <td>160.0</td>\n",
       "      <td>...</td>\n",
       "      <td>0.041667</td>\n",
       "      <td>0.791667</td>\n",
       "      <td>0.750000</td>\n",
       "      <td>0.0</td>\n",
       "      <td>1</td>\n",
       "      <td>0.005556</td>\n",
       "      <td>0.004167</td>\n",
       "      <td>0.041667</td>\n",
       "      <td>0.041667</td>\n",
       "      <td>0</td>\n",
       "    </tr>\n",
       "    <tr>\n",
       "      <th>2</th>\n",
       "      <td>2</td>\n",
       "      <td>5.750000</td>\n",
       "      <td>3.583333</td>\n",
       "      <td>10.083333</td>\n",
       "      <td>7.583333</td>\n",
       "      <td>2.291667</td>\n",
       "      <td>6.291667</td>\n",
       "      <td>1</td>\n",
       "      <td>55.0</td>\n",
       "      <td>170.0</td>\n",
       "      <td>...</td>\n",
       "      <td>0.041667</td>\n",
       "      <td>0.666667</td>\n",
       "      <td>0.916667</td>\n",
       "      <td>0.0</td>\n",
       "      <td>0</td>\n",
       "      <td>0.005556</td>\n",
       "      <td>0.005556</td>\n",
       "      <td>0.041667</td>\n",
       "      <td>0.041667</td>\n",
       "      <td>1</td>\n",
       "    </tr>\n",
       "  </tbody>\n",
       "</table>\n",
       "<p>3 rows × 24 columns</p>\n",
       "</div>"
      ],
      "text/plain": [
       "   ID  systolic  relaxation  Cholesterol  triglyceride       HDL       LDL  \\\n",
       "0   0  4.750000    3.041667     8.958333      3.416667  3.041667  5.250000   \n",
       "1   1  4.958333    2.916667     8.000000      4.791667  1.750000  5.291667   \n",
       "2   2  5.750000    3.583333    10.083333      7.583333  2.291667  6.291667   \n",
       "\n",
       "   gender   age  height(cm)  ...  Urine protein       ALT       Gtp  \\\n",
       "0       0  40.0       155.0  ...       0.041667  0.791667  1.125000   \n",
       "1       0  40.0       160.0  ...       0.041667  0.791667  0.750000   \n",
       "2       1  55.0       170.0  ...       0.041667  0.666667  0.916667   \n",
       "\n",
       "   dental caries  tartar  eyesight(left)  eyesight(right)  hearing(left)  \\\n",
       "0            0.0       1        0.043056         0.041667       0.041667   \n",
       "1            0.0       1        0.005556         0.004167       0.041667   \n",
       "2            0.0       0        0.005556         0.005556       0.041667   \n",
       "\n",
       "   hearing(right)  target  \n",
       "0        0.041667       0  \n",
       "1        0.041667       0  \n",
       "2        0.041667       1  \n",
       "\n",
       "[3 rows x 24 columns]"
      ]
     },
     "execution_count": 18,
     "metadata": {},
     "output_type": "execute_result"
    }
   ],
   "source": [
    "df.head(3)"
   ]
  },
  {
   "cell_type": "code",
   "execution_count": 19,
   "id": "1e92ba81-1cdc-43eb-98a8-827f63898552",
   "metadata": {},
   "outputs": [
    {
     "name": "stdout",
     "output_type": "stream",
     "text": [
      "<class 'pandas.core.frame.DataFrame'>\n",
      "RangeIndex: 50000 entries, 0 to 49999\n",
      "Data columns (total 24 columns):\n",
      " #   Column               Non-Null Count  Dtype  \n",
      "---  ------               --------------  -----  \n",
      " 0   ID                   50000 non-null  int64  \n",
      " 1   systolic             50000 non-null  float64\n",
      " 2   relaxation           50000 non-null  float64\n",
      " 3   Cholesterol          50000 non-null  float64\n",
      " 4   triglyceride         50000 non-null  float64\n",
      " 5   HDL                  50000 non-null  float64\n",
      " 6   LDL                  50000 non-null  float64\n",
      " 7   gender               50000 non-null  int64  \n",
      " 8   age                  50000 non-null  float64\n",
      " 9   height(cm)           50000 non-null  float64\n",
      " 10  weight(kg)           50000 non-null  float64\n",
      " 11  waist(cm)            50000 non-null  float64\n",
      " 12  fasting blood sugar  50000 non-null  float64\n",
      " 13  hemoglobin           50000 non-null  float64\n",
      " 14  Urine protein        50000 non-null  float64\n",
      " 15  ALT                  50000 non-null  float64\n",
      " 16  Gtp                  50000 non-null  float64\n",
      " 17  dental caries        50000 non-null  float64\n",
      " 18  tartar               50000 non-null  int64  \n",
      " 19  eyesight(left)       50000 non-null  float64\n",
      " 20  eyesight(right)      50000 non-null  float64\n",
      " 21  hearing(left)        50000 non-null  float64\n",
      " 22  hearing(right)       50000 non-null  float64\n",
      " 23  target               50000 non-null  int64  \n",
      "dtypes: float64(20), int64(4)\n",
      "memory usage: 9.2 MB\n"
     ]
    }
   ],
   "source": [
    "df.info()"
   ]
  },
  {
   "cell_type": "code",
   "execution_count": 14,
   "id": "a6f03f77-3f46-4d0e-80be-cd90a61007ce",
   "metadata": {},
   "outputs": [
    {
     "data": {
      "text/plain": [
       "array([0, 1])"
      ]
     },
     "execution_count": 14,
     "metadata": {},
     "output_type": "execute_result"
    }
   ],
   "source": [
    "df.gender.unique()"
   ]
  },
  {
   "cell_type": "code",
   "execution_count": 11,
   "id": "ab9381f9-0532-4e2f-bd52-1b53a5f27275",
   "metadata": {},
   "outputs": [
    {
     "data": {
      "text/plain": [
       "array(['Y', 'N'], dtype=object)"
      ]
     },
     "execution_count": 11,
     "metadata": {},
     "output_type": "execute_result"
    }
   ],
   "source": [
    "df.tartar.unique()"
   ]
  },
  {
   "cell_type": "code",
   "execution_count": 12,
   "id": "d6c14c0b-54f3-4699-ae4b-1d354ce0cb3a",
   "metadata": {},
   "outputs": [
    {
     "data": {
      "text/plain": [
       "array(['NO FUMADOR', 'FUMADOR'], dtype=object)"
      ]
     },
     "execution_count": 12,
     "metadata": {},
     "output_type": "execute_result"
    }
   ],
   "source": [
    "df.target.unique()"
   ]
  },
  {
   "cell_type": "code",
   "execution_count": 13,
   "id": "4c4c136f-b19e-4c60-8249-ade337afe69d",
   "metadata": {},
   "outputs": [
    {
     "name": "stderr",
     "output_type": "stream",
     "text": [
      "C:\\Users\\tinch\\AppData\\Local\\Temp\\ipykernel_17488\\2537151159.py:1: FutureWarning: Downcasting behavior in `replace` is deprecated and will be removed in a future version. To retain the old behavior, explicitly call `result.infer_objects(copy=False)`. To opt-in to the future behavior, set `pd.set_option('future.no_silent_downcasting', True)`\n",
      "  df[\"gender\"] = df[\"gender\"].replace({\"F\":0, \"M\":1})\n"
     ]
    }
   ],
   "source": [
    "df[\"gender\"] = df[\"gender\"].replace({\"F\":0, \"M\":1})"
   ]
  },
  {
   "cell_type": "code",
   "execution_count": 16,
   "id": "85cd323d-cedf-47e8-b1c8-273ca0e9390d",
   "metadata": {},
   "outputs": [
    {
     "name": "stderr",
     "output_type": "stream",
     "text": [
      "C:\\Users\\tinch\\AppData\\Local\\Temp\\ipykernel_17488\\3890497090.py:1: FutureWarning: Downcasting behavior in `replace` is deprecated and will be removed in a future version. To retain the old behavior, explicitly call `result.infer_objects(copy=False)`. To opt-in to the future behavior, set `pd.set_option('future.no_silent_downcasting', True)`\n",
      "  df[\"tartar\"] = df[\"tartar\"].replace({\"N\":0, \"Y\":1})\n"
     ]
    }
   ],
   "source": [
    "df[\"tartar\"] = df[\"tartar\"].replace({\"N\":0, \"Y\":1})"
   ]
  },
  {
   "cell_type": "code",
   "execution_count": 17,
   "id": "eab8fc5c-3bd2-4839-8bb2-274673db6c40",
   "metadata": {},
   "outputs": [
    {
     "name": "stderr",
     "output_type": "stream",
     "text": [
      "C:\\Users\\tinch\\AppData\\Local\\Temp\\ipykernel_17488\\1817344767.py:1: FutureWarning: Downcasting behavior in `replace` is deprecated and will be removed in a future version. To retain the old behavior, explicitly call `result.infer_objects(copy=False)`. To opt-in to the future behavior, set `pd.set_option('future.no_silent_downcasting', True)`\n",
      "  df[\"target\"] = df[\"target\"].replace({\"NO FUMADOR\":0, \"FUMADOR\":1})\n"
     ]
    }
   ],
   "source": [
    "df[\"target\"] = df[\"target\"].replace({\"NO FUMADOR\":0, \"FUMADOR\":1})"
   ]
  },
  {
   "cell_type": "code",
   "execution_count": 20,
   "id": "c0f08550-03e6-46b7-9531-a02d2c9d0dc1",
   "metadata": {},
   "outputs": [],
   "source": [
    "df.to_csv(\"C:/Users/tinch/coderhouse/template_model/data/processed/dataset_merged_processed_no_outliers_numeric.csv\")"
   ]
  },
  {
   "cell_type": "code",
   "execution_count": null,
   "id": "fb6af1e6-7cfd-4c35-b638-8434644c971b",
   "metadata": {},
   "outputs": [],
   "source": []
  },
  {
   "cell_type": "code",
   "execution_count": null,
   "id": "8b5b9f35-1723-4339-9fd7-c1029260bccc",
   "metadata": {},
   "outputs": [],
   "source": []
  },
  {
   "cell_type": "code",
   "execution_count": null,
   "id": "498c9243-56e8-4445-971f-dcae298b819e",
   "metadata": {},
   "outputs": [],
   "source": []
  },
  {
   "cell_type": "code",
   "execution_count": null,
   "id": "dc2786d8-5a69-4984-961e-2350d9da3156",
   "metadata": {},
   "outputs": [],
   "source": []
  },
  {
   "cell_type": "code",
   "execution_count": null,
   "id": "8d5766b2-390b-4017-bd10-fee3055b83ef",
   "metadata": {},
   "outputs": [],
   "source": []
  }
 ],
 "metadata": {
  "kernelspec": {
   "display_name": "Python 3 (ipykernel)",
   "language": "python",
   "name": "python3"
  },
  "language_info": {
   "codemirror_mode": {
    "name": "ipython",
    "version": 3
   },
   "file_extension": ".py",
   "mimetype": "text/x-python",
   "name": "python",
   "nbconvert_exporter": "python",
   "pygments_lexer": "ipython3",
   "version": "3.13.5"
  }
 },
 "nbformat": 4,
 "nbformat_minor": 5
}
